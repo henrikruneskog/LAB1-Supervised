{
 "cells": [
  {
   "cell_type": "markdown",
   "id": "8d0ed2af",
   "metadata": {},
   "source": [
    "# LAB1: Regression Task\n",
    "\n",
    "### Vinentusiaster har sedan länge menat att man behöver en sofistikerad pallet för att avgöra ifall ett vin är bra eller dåligt. Vi Data Scientists vet att så inte är fallet och att kvalitén av ett vin endast avgörs av ett antal datapunkter som går att hitta mönster emellan och att en sofistikerad pallet går att byta ut mot en maskininlärningsalgoritm. Vi ska bygga en maskininlärningsalgoritm som kan estimera kvalitén av ett vin.\n",
    "\n",
    "\n",
    "## Data Explanation\n",
    "### General\n",
    "- Fixed acidity: Vinets fasta surhet \n",
    "- Volatile acidity: Vinets flyktiga surhet\n",
    "- Citric acid: Vinets citronsyranivå\n",
    "- Residual sugar: Vinets restsocker\n",
    "- Chlorides: Vinets klorider\n",
    "- Free sulfur dioxide: Vinets fria svaveldioxidhalt\n",
    "- Total sulfur dioxide: Vinets totala svaveldioxidhalt\n",
    "- Density: Vinets densitet\n",
    "- pH: Vinets pH-värde\n",
    "- Sulphates: Vinets sulfater\n",
    "- Alcohol: Vinets promillehalt.\n",
    "- Quality: Vinets rankade värde (givet av en vinexpert)\n",
    "\n",
    "\n",
    "## What to do?\n",
    "### 1. Data cleaning:\n",
    "- The .csv file needs to be split into columns.\n",
    "- The dtypes of each column need to be assigned:\n",
    "    - Många av kolumnerna bör vara int\n",
    "    - Några av kolumnerna bör konverteras från kategoriska till int.\n",
    "    - Vi har en datum-kolumn. Behöver vi denna?\n",
    "- Vilka kolumner kan vi ta bort?\n",
    "\n",
    "### 2. Normalisation:\n",
    "- Normalisera vår data med lämplig metod.\n",
    "\n",
    "### 3. Split into train/test:\n",
    "- Dela upp datasetet i tränings -och testset.\n",
    "\n",
    "### 4. Regression\n",
    "- Använd en lämplig regressionsmodell för att prediktera kvalitén av viner.\n",
    "\n",
    "### 5. Performance measure\n",
    "- Använd lämpliga mått för att avgöra hur bra din/dina modell(er) är.\n",
    "- Baserat på dessa mått, optimera din(a) modell(er)."
   ]
  },
  {
   "cell_type": "code",
   "execution_count": 57,
   "id": "482863f4",
   "metadata": {},
   "outputs": [],
   "source": [
    "import pandas as pd\n",
    "df = pd.read_csv('winequality-red.csv')"
   ]
  }
 ],
 "metadata": {
  "kernelspec": {
   "display_name": "Python 3 (ipykernel)",
   "language": "python",
   "name": "python3"
  },
  "language_info": {
   "codemirror_mode": {
    "name": "ipython",
    "version": 3
   },
   "file_extension": ".py",
   "mimetype": "text/x-python",
   "name": "python",
   "nbconvert_exporter": "python",
   "pygments_lexer": "ipython3",
   "version": "3.8.11"
  }
 },
 "nbformat": 4,
 "nbformat_minor": 5
}
